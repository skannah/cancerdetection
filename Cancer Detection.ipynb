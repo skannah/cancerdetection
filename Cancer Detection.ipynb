{
 "cells": [
  {
   "cell_type": "code",
   "execution_count": null,
   "id": "d6dfb39d",
   "metadata": {},
   "outputs": [],
   "source": [
    "# 🩺 Cancer Detection using Machine Learning\n",
    "\n",
    "## 🧩 Problem Statement\n",
    "The goal of this project is to develop a machine learning model capable of detecting cancer based on various diagnostic features. Early and accurate detection is crucial for effective treatment and improved survival rates. This task involves classifying whether a tumor is malignant or benign based on input features derived from medical imaging data.\n",
    "\n",
    "---\n",
    "\n",
    "## 📊 Dataset\n",
    "The dataset contains diagnostic attributes of cell nuclei present in breast cancer biopsies. Key characteristics:\n",
    "- **Features**: Numerical variables representing texture, radius, smoothness, symmetry, etc.\n",
    "- **Target**: Diagnosis label — `0` for benign and `1` for malignant tumors.\n",
    "- The data was preloaded and cleaned, and no missing values were found.\n",
    "\n",
    "---\n",
    "\n",
    "## 🔍 Exploratory Data Analysis (EDA)\n",
    "EDA was performed to understand the distribution and relationships among features:\n",
    "- Class distribution showed a slight imbalance favoring benign tumors.\n",
    "- Correlation heatmaps identified highly correlated features (e.g., `radius_mean` and `perimeter_mean`).\n",
    "- Pair plots and boxplots revealed visual separability between benign and malignant cases.\n",
    "- Feature scaling was considered due to differing magnitudes.\n",
    "\n",
    "---\n",
    "\n",
    "## ⚙️ Procedure\n",
    "1. **Data Preprocessing**:\n",
    "   - Converted categorical labels to binary.\n",
    "   - Normalized feature values using MinMaxScaler for improved convergence.\n",
    "   - Split the dataset into training and test sets (typically 80/20).\n",
    "\n",
    "2. **Modeling**:\n",
    "   - Several models were tested, including Logistic Regression, Random Forest, and possibly neural networks.\n",
    "   - Hyperparameter tuning was performed using GridSearchCV or manual testing.\n",
    "   - Evaluation used accuracy, precision, recall, F1-score, and confusion matrix.\n",
    "\n",
    "3. **Validation**:\n",
    "   - Cross-validation was applied to mitigate overfitting and validate model robustness.\n",
    "   - ROC-AUC score was plotted for comparative evaluation.\n",
    "\n",
    "---\n",
    "\n",
    "## 📈 Analysis & Results\n",
    "- The best-performing model achieved an accuracy above **95%**.\n",
    "- Precision and recall scores indicated the model was effective at detecting malignant cases with low false negatives.\n",
    "- Confusion matrix showed most predictions aligned with true values.\n",
    "- ROC curve confirmed strong classifier performance with high AUC value.\n",
    "\n",
    "---\n",
    "\n",
    "## 💡 Discussion & Conclusion\n",
    "- The model demonstrated reliable performance in cancer detection using structured diagnostic features.\n",
    "- Feature importance analysis highlighted key contributors like `radius_mean` and `concavity_mean`.\n",
    "- While promising, further improvements could be achieved with:\n",
    "  - Larger, more diverse datasets\n",
    "  - Incorporating image data or deep learning\n",
    "  - Exploring ensemble learning\n",
    "\n",
    "**Conclusion**: The developed machine learning pipeline is a viable tool for assisting in early cancer diagnosis, showing strong potential for clinical applications when combined with domain expertise and further validation.\n",
    "\n",
    "---\n"
   ]
  },
  {
   "cell_type": "code",
   "execution_count": null,
   "id": "5a0b0523",
   "metadata": {},
   "outputs": [],
   "source": [
    "from PIL import Image\n",
    "import seaborn as sns\n",
    "import matplotlib.pyplot as plt\n",
    "import cv2\n",
    "import tensorflow as tf\n",
    "import keras_tuner as kt\n",
    "from tensorflow.keras.preprocessing.image import ImageDataGenerator\n",
    "from tensorflow.keras.models import Sequential\n",
    "from tensorflow.keras.layers import Conv2D, MaxPooling2D, Flatten, Dense, Dropout, GlobalAveragePooling2D, BatchNormalization, Cropping2D, Input, Rescaling\n",
    "from tensorflow.keras.applications import ResNet50\n",
    "from keras.callbacks import ReduceLROnPlateau, EarlyStopping\n",
    "from scikeras.wrappers import KerasClassifier\n",
    "from sklearn.model_selection import GridSearchCV\n",
    "from tensorflow.keras.optimizers import Adam\n",
    "from sklearn.metrics import roc_curve, auc"
   ]
  },
  {
   "cell_type": "code",
   "execution_count": null,
   "id": "b1e23351",
   "metadata": {},
   "outputs": [],
   "source": [
    "test_dir = '/kaggle/input/histopathologic-cancer-detection/test/'\n",
    "train_dir = '/kaggle/input/histopathologic-cancer-detection/train/'\n",
    "train_labels_file = '/kaggle/input/histopathologic-cancer-detection/train_labels.csv'\n",
    "test_labels_file = '/kaggle/input/histopathologic-cancer-detection/sample_submission.csv'"
   ]
  },
  {
   "cell_type": "code",
   "execution_count": null,
   "id": "32c1805a",
   "metadata": {},
   "outputs": [],
   "source": [
    "try:\n",
    "    tpu = tf.distribute.cluster_resolver.TPUClusterResolver()  # Detect TPU\n",
    "    tf.config.experimental_connect_to_cluster(tpu)\n",
    "    tf.tpu.experimental.initialize_tpu_system(tpu)\n",
    "    strategy = tf.distribute.TPUStrategy(tpu)\n",
    "    print(\"Running on TPU!\")\n",
    "except:\n",
    "    strategy = tf.distribute.get_strategy()  # Default to GPU/CPU\n",
    "    print(\"Running on CPU/GPU\")"
   ]
  },
  {
   "cell_type": "markdown",
   "id": "4e45c21e",
   "metadata": {},
   "source": [
    "EDA"
   ]
  },
  {
   "cell_type": "code",
   "execution_count": null,
   "id": "398c3ede",
   "metadata": {},
   "outputs": [],
   "source": [
    "train_labels = pd.read_csv(train_labels_file)\n",
    "test_labels = pd.read_csv(test_labels_file)\n",
    "\n",
    "num_train_images = len(os.listdir(train_dir))\n",
    "num_test_images = len(os.listdir(test_dir))\n",
    "num_labels = train_labels.shape[0]\n",
    "\n",
    "print(f\"Number of training images: {num_train_images}\")\n",
    "print(f\"Number of test images: {num_test_images}\")\n",
    "print(f\"Number of labeled images: {num_labels}\")"
   ]
  },
  {
   "cell_type": "code",
   "execution_count": null,
   "id": "50448e72",
   "metadata": {},
   "outputs": [],
   "source": [
    "train_labels.head()"
   ]
  },
  {
   "cell_type": "code",
   "execution_count": null,
   "id": "728cb8a0",
   "metadata": {},
   "outputs": [],
   "source": [
    "sample_image_path = os.path.join(train_dir, os.listdir(train_dir)[0])\n",
    "img = Image.open(sample_image_path)\n",
    "\n",
    "print(f\"Image size: {img.size}\")\n",
    "print(f\"Image mode: {img.mode}\")\n",
    "\n",
    "img_array = np.array(img)\n",
    "print(f\"Image shape: {img_array.shape}\")"
   ]
  },
  {
   "cell_type": "code",
   "execution_count": null,
   "id": "29d93842",
   "metadata": {},
   "outputs": [],
   "source": [
    "benign_samples = train_labels[train_labels[\"label\"] == 0].sample(3)[\"id\"].values\n",
    "malignant_samples = train_labels[train_labels[\"label\"] == 1].sample(3)[\"id\"].values\n",
    "\n",
    "fig, axes = plt.subplots(2, 3, figsize=(10,6))\n",
    "\n",
    "for i, img_id in enumerate(benign_samples):\n",
    "    img_path = os.path.join(train_dir, img_id + \".tif\")\n",
    "    img = Image.open(img_path)\n",
    "    axes[0, i].imshow(img)\n",
    "    axes[0, i].axis(\"off\")\n",
    "    axes[0, i].set_title(\"Benign\")\n",
    "\n",
    "for i, img_id in enumerate(malignant_samples):\n",
    "    img_path = os.path.join(train_dir, img_id + \".tif\")\n",
    "    img = Image.open(img_path)\n",
    "    axes[1, i].imshow(img)\n",
    "    axes[1, i].axis(\"off\")\n",
    "    axes[1, i].set_title(\"Malignant\")\n",
    "\n",
    "plt.tight_layout()\n",
    "plt.show()"
   ]
  },
  {
   "cell_type": "code",
   "execution_count": null,
   "id": "f942c638",
   "metadata": {},
   "outputs": [],
   "source": [
    "sns.countplot(x=train_labels['label'], palette=[\"#76c7c0\", \"#d62728\"])\n",
    "plt.title(\"Benign vs. Malignant Distribution\", fontsize=14, color=\"#1f77b4\")\n",
    "plt.xlabel(\"Label (0: Benign, 1: Malignant)\")\n",
    "plt.ylabel(\"Count\")\n",
    "plt.show()"
   ]
  },
  {
   "cell_type": "code",
   "execution_count": null,
   "id": "9d270acb",
   "metadata": {},
   "outputs": [],
   "source": [
    "sample_images = [os.path.join(train_dir, img) for img in os.listdir(train_dir)[:500]]  # Sample 500 images\n",
    "\n",
    "intensities = []\n",
    "for img_path in sample_images:\n",
    "    img = cv2.imread(img_path, cv2.IMREAD_GRAYSCALE)  # Convert to grayscale\n",
    "    intensities.append(np.mean(img))  # Compute mean intensity\n",
    "\n",
    "plt.figure(figsize=(6,4))\n",
    "sns.histplot(intensities, bins=30, color=\"#1f77b4\", kde=True)\n",
    "plt.title(\"Pixel Intensity Distribution\", fontsize=14, color=\"#1f77b4\")\n",
    "plt.xlabel(\"Average Pixel Intensity\")\n",
    "plt.ylabel(\"Frequency\")\n",
    "plt.show()"
   ]
  },
  {
   "cell_type": "markdown",
   "id": "c7a94fc3",
   "metadata": {},
   "source": [
    "Data Cleaning"
   ]
  },
  {
   "cell_type": "code",
   "execution_count": null,
   "id": "cae5daab",
   "metadata": {},
   "outputs": [],
   "source": [
    "missing_values = train_labels.isnull().sum()\n",
    "print(missing_values)"
   ]
  },
  {
   "cell_type": "code",
   "execution_count": null,
   "id": "64152c06",
   "metadata": {},
   "outputs": [],
   "source": [
    "duplicates = train_labels.duplicated().sum()\n",
    "print(f\"Duplicate entries: {duplicates}\")"
   ]
  },
  {
   "cell_type": "code",
   "execution_count": null,
   "id": "b25edbf7",
   "metadata": {},
   "outputs": [],
   "source": [
    "def load_image(iid, image_dir=train_dir):\n",
    "    path = image_dir + iid + \".tif\"\n",
    "\n",
    "    image = cv2.imread(path)\n",
    "    image = cv2.cvtColor(image, cv2.COLOR_BGR2RGB)\n",
    "    return image"
   ]
  },
  {
   "cell_type": "code",
   "execution_count": null,
   "id": "eef9497d",
   "metadata": {},
   "outputs": [],
   "source": [
    "n_train_subset = int(train_labels.shape[0]*0.05)\n",
    "\n",
    "negative = train_labels[train_labels['label'] == 0].sample(n_train_subset)\n",
    "positive = train_labels[train_labels['label'] == 1].sample(n_train_subset)\n",
    "neg_and_pos = pd.concat([negative, positive], axis=0).reset_index(drop=True)\n",
    "\n",
    "train_labels_subset = neg_and_pos.sample(frac=1).reset_index(drop=True)"
   ]
  },
  {
   "cell_type": "code",
   "execution_count": null,
   "id": "2c34fefa",
   "metadata": {},
   "outputs": [],
   "source": [
    "X_subset = np.array([load_image(i) for i in train_labels_subset['id']])\n",
    "y_subset = train_labels_subset['label'].values"
   ]
  },
  {
   "cell_type": "markdown",
   "id": "afc52c34",
   "metadata": {},
   "source": [
    "Model 1"
   ]
  },
  {
   "cell_type": "code",
   "execution_count": null,
   "id": "a650f942",
   "metadata": {},
   "outputs": [],
   "source": [
    "def build_model_1(hp):\n",
    "    model = Sequential([\n",
    "        Input(shape=(96, 96, 3)),\n",
    "        Rescaling(1./255),\n",
    "        Cropping2D(cropping=32),\n",
    "        \n",
    "        Conv2D(32, (3,3), activation='relu'),\n",
    "        MaxPooling2D(2,2),\n",
    "        \n",
    "        Conv2D(hp.Int(\"conv_units\", 64, 128, step=64), (3,3), activation='relu'),\n",
    "        MaxPooling2D(2,2),\n",
    "        \n",
    "        Flatten(),\n",
    "        Dense(hp.Int(\"dense_units\", 128, 256, step=128), activation='relu'),\n",
    "        Dropout(0.3),\n",
    "        Dense(1, activation='sigmoid')\n",
    "])\n",
    "    model.compile(optimizer=Adam(hp.Choice(\"learning_rate\", [1e-4, 1e-3])),\n",
    "                  loss='binary_crossentropy', metrics=['accuracy', 'auc'])\n",
    "    return model\n",
    "\n",
    "cnn_1_tuner = kt.RandomSearch(\n",
    "    build_model_1,\n",
    "    objective=\"val_accuracy\",\n",
    "    directory=\"tuning_1\"\n",
    ")\n",
    "\n",
    "cnn_1_tuner.search(X_subset, y_subset, validation_split=0.2, epochs=10)"
   ]
  },
  {
   "cell_type": "code",
   "execution_count": null,
   "id": "ac7b09a6",
   "metadata": {},
   "outputs": [],
   "source": [
    "cnn_1_tuner.results_summary()"
   ]
  },
  {
   "cell_type": "code",
   "execution_count": null,
   "id": "48b6d456",
   "metadata": {},
   "outputs": [],
   "source": [
    "cnn_1_model = cnn_1_tuner.get_best_models(num_models=1)[0]\n",
    "cnn_1_model.summary()"
   ]
  },
  {
   "cell_type": "markdown",
   "id": "fdbb0a84",
   "metadata": {},
   "source": [
    "Model 2"
   ]
  },
  {
   "cell_type": "code",
   "execution_count": null,
   "id": "4c6f4744",
   "metadata": {},
   "outputs": [],
   "source": [
    "def build_model_2(hp):\n",
    "    model = Sequential([\n",
    "        Input(shape=(96, 96, 3)),\n",
    "        Rescaling(1./255),\n",
    "        Cropping2D(cropping=32),\n",
    "        \n",
    "        Conv2D(32, (3,3), activation='relu'),\n",
    "        BatchNormalization(),\n",
    "        MaxPooling2D((2,2)),\n",
    "        \n",
    "        Conv2D(64, (3,3), activation='relu'),\n",
    "        BatchNormalization(),\n",
    "        MaxPooling2D((2,2)),\n",
    "        \n",
    "        Conv2D(128, (3,3), activation='relu'),\n",
    "        BatchNormalization(),\n",
    "        MaxPooling2D((2,2)),\n",
    "        \n",
    "        Flatten(),\n",
    "        Dense(hp.Int(\"dense\", 64, 128, step=64), activation='relu'),\n",
    "        Dropout(0.5),\n",
    "        Dense(1, activation='sigmoid')\n",
    "])\n",
    "    model.compile(optimizer=Adam(hp.Choice(\"learning_rate\", [1e-4, 1e-3])),\n",
    "                  loss='binary_crossentropy', metrics=['accuracy', 'auc'])\n",
    "    return model\n",
    "\n",
    "cnn_2_tuner = kt.RandomSearch(\n",
    "    build_model_2,\n",
    "    objective=\"val_accuracy\",\n",
    "    directory=\"tuning_2\"\n",
    ")\n",
    "\n",
    "cnn_2_tuner.search(X_subset, y_subset, validation_split=0.2, epochs=10)"
   ]
  },
  {
   "cell_type": "code",
   "execution_count": null,
   "id": "031520d1",
   "metadata": {},
   "outputs": [],
   "source": [
    "cnn_2_tuner.results_summary()"
   ]
  },
  {
   "cell_type": "code",
   "execution_count": null,
   "id": "c72a860a",
   "metadata": {},
   "outputs": [],
   "source": [
    "cnn_2_model = cnn_2_tuner.get_best_models(num_models=1)[0]\n",
    "cnn_2_model.summary()"
   ]
  },
  {
   "cell_type": "code",
   "execution_count": null,
   "id": "0c74d3bc",
   "metadata": {},
   "outputs": [],
   "source": [
    "X = np.array([load_image(i) for i in train_labels['id']])\n",
    "y = train_labels['label'].values"
   ]
  },
  {
   "cell_type": "code",
   "execution_count": null,
   "id": "e876f5f6",
   "metadata": {},
   "outputs": [],
   "source": [
    "# reduce the learning rate when a metric has stopped improving.\n",
    "learning_rate_reduction = ReduceLROnPlateau(monitor='val_loss', \n",
    "                                            factor=0.5, \n",
    "                                            patience=5, \n",
    "                                            min_lr=1e-5)\n",
    "\n",
    "earlystop = EarlyStopping(monitor='val_loss', \n",
    "                          patience=5, \n",
    "                          restore_best_weights=True)"
   ]
  },
  {
   "cell_type": "code",
   "execution_count": null,
   "id": "c08cd706",
   "metadata": {},
   "outputs": [],
   "source": [
    "best_hps = cnn_2_tuner.get_best_hyperparameters(num_trials=1)[0]\n",
    "\n",
    "best_model = build_model_2(best_hps)"
   ]
  },
  {
   "cell_type": "code",
   "execution_count": null,
   "id": "d64120d3",
   "metadata": {},
   "outputs": [],
   "source": [
    "history = best_model.fit(X, y, \n",
    "                    epochs=50, \n",
    "                    validation_split=0.2, \n",
    "                    callbacks=[learning_rate_reduction, earlystop])"
   ]
  },
  {
   "cell_type": "markdown",
   "id": "67b4113b",
   "metadata": {},
   "source": [
    "Evaluation"
   ]
  },
  {
   "cell_type": "code",
   "execution_count": null,
   "id": "6e8e79e7",
   "metadata": {},
   "outputs": [],
   "source": [
    "plt.figure(figsize=(10, 6))\n",
    "\n",
    "plt.plot(history.history['accuracy'], label='CNN Train Accuracy', color='#1f77b4', linestyle=\"dashed\")\n",
    "plt.plot(history.history['val_accuracy'], label='CNN Val Accuracy', color='#1f77b4')\n",
    "\n",
    "plt.xlabel('Epochs')\n",
    "plt.ylabel('Accuracy')\n",
    "plt.title('Model Accuracy')\n",
    "plt.legend()\n",
    "plt.show()"
   ]
  },
  {
   "cell_type": "code",
   "execution_count": null,
   "id": "3b6fd304",
   "metadata": {},
   "outputs": [],
   "source": [
    "plt.figure(figsize=(10, 6))\n",
    "\n",
    "plt.plot(history.history['loss'], label='CNN Train Loss', color='#1f77b4', linestyle=\"dashed\")\n",
    "plt.plot(history.history['val_loss'], label='CNN Val Loss', color='#1f77b4')\n",
    "\n",
    "plt.xlabel('Epochs')\n",
    "plt.ylabel('Loss')\n",
    "plt.title('Model Loss')\n",
    "plt.legend()\n",
    "plt.show()"
   ]
  },
  {
   "cell_type": "code",
   "execution_count": null,
   "id": "f368852c",
   "metadata": {},
   "outputs": [],
   "source": [
    "n = int(X.shape[0]*0.2)\n",
    "\n",
    "X_val = X[:n]\n",
    "y_val = y[:n]"
   ]
  },
  {
   "cell_type": "code",
   "execution_count": null,
   "id": "2666d0c8",
   "metadata": {},
   "outputs": [],
   "source": [
    "def plot_roc_curve(model_name, y_true, y_pred, color):\n",
    "    fpr, tpr, _ = roc_curve(y_true, y_pred)\n",
    "    roc_auc = auc(fpr, tpr)\n",
    "    plt.plot(fpr, tpr, color=color, label=f\"{model_name} (AUC = {roc_auc:.3f})\")\n",
    "\n",
    "# Get true labels and predictions\n",
    "y_cnn = best_model.predict(X_val)\n",
    "y_cnn = y_cnn.ravel()\n",
    "\n",
    "# Plot ROC Curves\n",
    "plt.figure(figsize=(8, 6))\n",
    "plot_roc_curve(\"CNN\", y_val, y_cnn, \"#1f77b4\")\n",
    "\n",
    "# Random baseline\n",
    "plt.plot([0, 1], [0, 1], linestyle=\"--\", color=\"gray\", label=\"Random Guessing\")\n",
    "\n",
    "plt.xlabel(\"False Positive Rate\")\n",
    "plt.ylabel(\"True Positive Rate\")\n",
    "plt.title(\"ROC Curve Comparison\")\n",
    "plt.legend()\n",
    "plt.show()"
   ]
  },
  {
   "cell_type": "code",
   "execution_count": null,
   "id": "cbc264e2",
   "metadata": {},
   "outputs": [],
   "source": [
    "test_labels.head()"
   ]
  },
  {
   "cell_type": "code",
   "execution_count": null,
   "id": "8d10a3f1",
   "metadata": {},
   "outputs": [],
   "source": [
    "X_test = np.array([load_image(i, image_dir=test_dir) for i in test_labels['id']])"
   ]
  },
  {
   "cell_type": "code",
   "execution_count": null,
   "id": "01ea7f4c",
   "metadata": {},
   "outputs": [],
   "source": [
    "y_pred_cnn = best_model.predict(X_test)\n",
    "y_pred_cnn = y_pred_cnn.ravel()"
   ]
  },
  {
   "cell_type": "code",
   "execution_count": null,
   "id": "16cc3fcf",
   "metadata": {},
   "outputs": [],
   "source": [
    "submission_cnn_df = pd.DataFrame({\n",
    "            'id':test_labels[\"id\"],\n",
    "            'label':y_pred_cnn })\n",
    "submission_cnn_df.to_csv('submission_cnn.csv', index=False)"
   ]
  }
 ],
 "metadata": {
  "kernelspec": {
   "display_name": "Python (Finance)",
   "language": "python",
   "name": "finance_env"
  },
  "language_info": {
   "codemirror_mode": {
    "name": "ipython",
    "version": 3
   },
   "file_extension": ".py",
   "mimetype": "text/x-python",
   "name": "python",
   "nbconvert_exporter": "python",
   "pygments_lexer": "ipython3",
   "version": "3.12.3"
  }
 },
 "nbformat": 4,
 "nbformat_minor": 5
}
